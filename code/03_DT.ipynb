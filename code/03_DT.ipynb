{
 "cells": [
  {
   "cell_type": "markdown",
   "source": [
    "# Airline Passenger Satisfaction - Model 2: Decision Tree\n",
    "----\n",
    "## Load data"
   ],
   "metadata": {}
  },
  {
   "cell_type": "code",
   "execution_count": null,
   "source": [
    "%run ./01_data_prep.ipynb\n",
    "%run ./utils.ipynb\n",
    "#data is stored in X_train, X_valid, y_train, y_valid"
   ],
   "outputs": [],
   "metadata": {}
  },
  {
   "cell_type": "code",
   "execution_count": null,
   "source": [
    "from sklearn.tree import DecisionTreeClassifier\n",
    "from sklearn import metrics"
   ],
   "outputs": [],
   "metadata": {}
  },
  {
   "cell_type": "code",
   "execution_count": null,
   "source": [
    "# Decision tree classifier\n",
    "clf = DecisionTreeClassifier(max_depth=None)\n",
    "\n",
    "clf = clf.fit(X_train,y_train)\n",
    "\n",
    "y_pred = clf.predict(X_valid)\n"
   ],
   "outputs": [],
   "metadata": {}
  },
  {
   "cell_type": "code",
   "execution_count": null,
   "source": [
    "# measure accuracy of classifier on validation split\n",
    "metrics.accuracy_score(y_valid, y_pred)"
   ],
   "outputs": [],
   "metadata": {}
  },
  {
   "cell_type": "code",
   "execution_count": null,
   "source": [
    "from sklearn.model_selection import GridSearchCV\n",
    "import numpy as np\n",
    "param_grid = {'max_depth' : np.arange(1, 15)}\n",
    "# Cross validating data with 5 folds\n",
    "dt_gs = GridSearchCV(clf, param_grid, cv=5, n_jobs=4)\n",
    "\n",
    "dt_gs.fit(X_train,y_train)"
   ],
   "outputs": [],
   "metadata": {}
  },
  {
   "cell_type": "code",
   "execution_count": null,
   "source": [
    "# Check score when n = best value according to grid search\n",
    "dt_gs.best_score_"
   ],
   "outputs": [],
   "metadata": {}
  },
  {
   "cell_type": "code",
   "execution_count": null,
   "source": [
    "# Check best value for max depth\n",
    "dt_gs.best_params_"
   ],
   "outputs": [],
   "metadata": {}
  },
  {
   "cell_type": "code",
   "execution_count": null,
   "source": [
    "p = list(range(1, 25))\n",
    "lst_test =[]\n",
    "lst_train =[]\n",
    "for i in p:\n",
    "    dt = DecisionTreeClassifier(max_depth = i)\n",
    "    dt.fit(X_train, y_train)\n",
    "    z = dt.score(X_valid, y_valid)\n",
    "    t = dt.score(X_train, y_train)\n",
    "    lst_test.append(z)\n",
    "    lst_train.append(t)"
   ],
   "outputs": [],
   "metadata": {}
  },
  {
   "cell_type": "code",
   "execution_count": null,
   "source": [
    "import matplotlib.pyplot as plt"
   ],
   "outputs": [],
   "metadata": {}
  },
  {
   "cell_type": "code",
   "execution_count": null,
   "source": [
    "plt.plot(p, lst_test, color ='red', label ='Test Accuracy')\n",
    "plt.plot(p, lst_train, color ='b', label ='Train Accuracy')\n",
    "plt.xlabel('Model Complexity --->')\n",
    "plt.title('Best value of Depth')\n",
    "plt.legend()\n",
    "plt.savefig('DT_complexity.png')"
   ],
   "outputs": [],
   "metadata": {}
  },
  {
   "cell_type": "markdown",
   "source": [
    "We achieve highest accuracy at max_depth = 13, which is the same result shown by GridSearch"
   ],
   "metadata": {}
  },
  {
   "cell_type": "code",
   "execution_count": null,
   "source": [
    "# Using max_depth = 13\n",
    "model = DecisionTreeClassifier(max_depth = 13)\n",
    "\n",
    "plot_learning_curve(model, \"DT Learning Curve\", X_train, y_train, n_jobs=4)\n",
    "plt.savefig(\"learning_curve_DT.png\")"
   ],
   "outputs": [],
   "metadata": {}
  },
  {
   "cell_type": "markdown",
   "source": [
    "Learning curve shows that the scores are starting to converge, but are not quite there, adding more data may result in a higher score."
   ],
   "metadata": {}
  }
 ],
 "metadata": {
  "kernelspec": {
   "name": "python3",
   "display_name": "Python 3.8.8 64-bit ('base': conda)"
  },
  "language_info": {
   "codemirror_mode": {
    "name": "ipython",
    "version": 3
   },
   "file_extension": ".py",
   "mimetype": "text/x-python",
   "name": "python",
   "nbconvert_exporter": "python",
   "pygments_lexer": "ipython3",
   "version": "3.8.8"
  },
  "interpreter": {
   "hash": "98f5bd2dc4419a3a2a6dfd5f48c070239cdc296a2553dbd89ed53d7c3a40ba3a"
  }
 },
 "nbformat": 4,
 "nbformat_minor": 4
}