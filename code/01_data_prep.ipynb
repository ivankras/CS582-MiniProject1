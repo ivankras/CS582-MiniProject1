{
 "cells": [
  {
   "cell_type": "markdown",
   "source": [
    "# Airline Passenger Satisfaction - Data Preparation\n",
    "----\n",
    "### Import data"
   ],
   "metadata": {}
  },
  {
   "cell_type": "code",
   "execution_count": null,
   "source": [
    "import pandas as pd\n",
    "\n",
    "dataset_path = 'airline_passenger_satisfaction.csv'\n",
    "dataset = pd.read_csv(dataset_path)\n",
    "dataset.describe()"
   ],
   "outputs": [],
   "metadata": {}
  },
  {
   "cell_type": "markdown",
   "source": [
    "### Separate input from output"
   ],
   "metadata": {}
  },
  {
   "cell_type": "code",
   "execution_count": 8,
   "source": [
    "from sklearn.preprocessing import LabelEncoder\n",
    "\n",
    "X = dataset.drop(['Unnamed: 0'], axis=1)            # drop ID\n",
    "label_encoder = LabelEncoder()\n",
    "y = label_encoder.fit_transform(X['satisfaction'])  # output\n",
    "X = X.drop(['satisfaction'], axis=1)                # remove target from input"
   ],
   "outputs": [],
   "metadata": {}
  },
  {
   "cell_type": "markdown",
   "source": [
    "### Handle missing values (arrival_delay)\n",
    "Since the arrival_delay feature is highly correlated with the departure_delay feature, and the missing values are not that many (393 out of 129879: ~0.03%), we decide to remove the column."
   ],
   "metadata": {}
  },
  {
   "cell_type": "code",
   "execution_count": 9,
   "source": [
    "X = X.drop(['arrival_delay_in_minutes'], axis=1)"
   ],
   "outputs": [],
   "metadata": {}
  },
  {
   "cell_type": "markdown",
   "source": [
    "### Encode categorical data"
   ],
   "metadata": {}
  },
  {
   "cell_type": "code",
   "execution_count": 10,
   "source": [
    "from sklearn.preprocessing import OneHotEncoder\n",
    "\n",
    "# Get list of categorical features\n",
    "s = (X.dtypes == 'object')\n",
    "categorical_cols = list(s[s].index)\n",
    "\n",
    "# Encode categorical columns (One Hot)\n",
    "encoder = OneHotEncoder(handle_unknown='ignore', sparse=False)\n",
    "OH_cols = pd.DataFrame(encoder.fit_transform(X[categorical_cols]))\n",
    "OH_cols.index = X.index\n",
    "\n",
    "# Replace old categorical features with their One Hot encoding\n",
    "categorical = X.select_dtypes(include=['object'])\n",
    "X = X.drop(categorical, axis=1)\n",
    "X = pd.concat([X, OH_cols], axis=1)\n"
   ],
   "outputs": [],
   "metadata": {}
  },
  {
   "cell_type": "markdown",
   "source": [
    "### Split dataset into train and test"
   ],
   "metadata": {}
  },
  {
   "cell_type": "code",
   "execution_count": null,
   "source": [
    "from sklearn.model_selection import train_test_split\n",
    "\n",
    "# Divide data into training and validation subsets\n",
    "X_train, X_valid, y_train, y_valid = train_test_split(X, y, train_size=0.8, test_size=0.2, random_state=45)\n",
    "\n",
    "X_train.head()"
   ],
   "outputs": [],
   "metadata": {}
  }
 ],
 "metadata": {
  "orig_nbformat": 4,
  "language_info": {
   "name": "python",
   "version": "3.8.10",
   "mimetype": "text/x-python",
   "codemirror_mode": {
    "name": "ipython",
    "version": 3
   },
   "pygments_lexer": "ipython3",
   "nbconvert_exporter": "python",
   "file_extension": ".py"
  },
  "kernelspec": {
   "name": "python3",
   "display_name": "Python 3.8.10 64-bit"
  },
  "interpreter": {
   "hash": "916dbcbb3f70747c44a77c7bcd40155683ae19c65e1c03b4aa3499c5328201f1"
  }
 },
 "nbformat": 4,
 "nbformat_minor": 2
}