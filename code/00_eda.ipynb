{
 "cells": [
  {
   "cell_type": "markdown",
   "source": [
    "# Airline Passenger Satisfaction - EDA\n",
    "----\n",
    "### Import data and describe"
   ],
   "metadata": {}
  },
  {
   "cell_type": "code",
   "execution_count": null,
   "source": [
    "import pandas as pd\n",
    "\n",
    "dataset_path = 'airline_passenger_satisfaction.csv'\n",
    "dataset = pd.read_csv(dataset_path)\n",
    "dataset.describe()"
   ],
   "outputs": [],
   "metadata": {}
  },
  {
   "cell_type": "markdown",
   "source": [
    "### Analysis\n",
    "- We see the first column represents the id, so we take that column out"
   ],
   "metadata": {}
  },
  {
   "cell_type": "code",
   "execution_count": null,
   "source": [
    "X = dataset.drop(['Unnamed: 0'], axis=1)\n",
    "X.describe()"
   ],
   "outputs": [],
   "metadata": {}
  },
  {
   "cell_type": "markdown",
   "source": [
    "- check columns with any missing values"
   ],
   "metadata": {}
  },
  {
   "cell_type": "code",
   "execution_count": null,
   "source": [
    "# Get names of columns with missing values\n",
    "cols_with_missing = [col for col in X.columns if X[col].isnull().any()]\n",
    "print(cols_with_missing) # result: ['arrival_delay_in_minutes']\n",
    "print(len(X['arrival_delay_in_minutes'][X['arrival_delay_in_minutes'].isnull()])) # how many values are missing"
   ],
   "outputs": [],
   "metadata": {}
  },
  {
   "cell_type": "markdown",
   "source": [
    "### Categorical Values\n",
    "- We detect which columns hold categorical values, so we can decide how to encode them"
   ],
   "metadata": {}
  },
  {
   "cell_type": "code",
   "execution_count": null,
   "source": [
    "categorical_columns = X.select_dtypes(include=['object'])\n",
    "categorical_columns.head(10)"
   ],
   "outputs": [],
   "metadata": {}
  },
  {
   "cell_type": "markdown",
   "source": [
    "### Analysis\n",
    "- We have 4 categorical features in our dataset (plus the result). Now we need to know how many possible values each can take."
   ],
   "metadata": {}
  },
  {
   "cell_type": "code",
   "execution_count": null,
   "source": [
    "different_values = categorical_columns.nunique(axis=0)\n",
    "print(different_values)"
   ],
   "outputs": [],
   "metadata": {}
  },
  {
   "cell_type": "markdown",
   "source": [
    "- We see there are 4 categorical features, with no more than 3 unique values each. So, given that none of them is a clear candidate for being weighted, we decide to use one-hot encoding in all of them.\n",
    "----\n",
    "### Looking for strong correlations\n",
    "- We use pairwise correlation function to check if two features show strong correlation. For the top values (< 0.9), we use plots to visualize the data and actually see it."
   ],
   "metadata": {}
  },
  {
   "cell_type": "code",
   "execution_count": null,
   "source": [
    "# 1 means same signal; 0 means no correlation at all\n",
    "corr_table = X.corr(method='pearson').abs()\n",
    "\n",
    "# Get the highest values != 1\n",
    "corr_coef = corr_table.unstack()\n",
    "sorted_coef = corr_coef[corr_coef < 1].sort_values(kind='quicksort', ascending=False)\n",
    "print(sorted_coef)"
   ],
   "outputs": [],
   "metadata": {}
  },
  {
   "cell_type": "markdown",
   "source": [
    "- arrival_delay_in_minutes and departure_delay_in_minutes have the highest correlation rate (0.965291), which semantically makes sense; all other variables are less than 75% correlated.\n",
    "- NOTE: satisfaction (the label we will try to predict) is not strongly correlated (>0.7) with any of the other features.\n",
    "- said correlation can be visualized next:"
   ],
   "metadata": {}
  },
  {
   "cell_type": "code",
   "execution_count": null,
   "source": [
    "import seaborn as sns\n",
    "import numpy as np\n",
    "X_plot = X[['arrival_delay_in_minutes', 'departure_delay_in_minutes']]\n",
    "X_plot['y'] = np.random.choice([1., 0.], size=len(X_plot))\n",
    "sns.pairplot(X_plot, hue='y')"
   ],
   "outputs": [],
   "metadata": {}
  }
 ],
 "metadata": {
  "orig_nbformat": 4,
  "language_info": {
   "name": "python",
   "version": "3.8.10",
   "mimetype": "text/x-python",
   "codemirror_mode": {
    "name": "ipython",
    "version": 3
   },
   "pygments_lexer": "ipython3",
   "nbconvert_exporter": "python",
   "file_extension": ".py"
  },
  "kernelspec": {
   "name": "python3",
   "display_name": "Python 3.8.10 64-bit"
  },
  "interpreter": {
   "hash": "916dbcbb3f70747c44a77c7bcd40155683ae19c65e1c03b4aa3499c5328201f1"
  }
 },
 "nbformat": 4,
 "nbformat_minor": 2
}