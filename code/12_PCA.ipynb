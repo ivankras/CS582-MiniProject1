{
 "cells": [
  {
   "cell_type": "markdown",
   "source": [
    "# Airline Passenger Satisfaction - Best Model (Voting Classifier) + PCA\n",
    "----\n",
    "## Load data"
   ],
   "metadata": {}
  },
  {
   "cell_type": "code",
   "execution_count": null,
   "source": [
    "%run ./01_data_prep.ipynb\n",
    "%run ./utils.ipynb"
   ],
   "outputs": [],
   "metadata": {}
  },
  {
   "cell_type": "code",
   "execution_count": null,
   "source": [
    "from sklearn.neighbors import KNeighborsClassifier\n",
    "from sklearn.tree import DecisionTreeClassifier\n",
    "from sklearn.pipeline import make_pipeline\n",
    "from sklearn.preprocessing import StandardScaler\n",
    "from sklearn.svm import SVC\n",
    "from sklearn.neural_network import MLPClassifier\n",
    "from sklearn.linear_model import SGDClassifier\n",
    "from sklearn.ensemble import RandomForestClassifier\n",
    "\n",
    "model1 = KNeighborsClassifier(n_neighbors = 5)\n",
    "model2 = DecisionTreeClassifier(max_depth = 13)\n",
    "model3 = make_pipeline(StandardScaler(), SVC(gamma=0.03, C=0.8))\n",
    "model4 = MLPClassifier(alpha=0.001, learning_rate_init=0.005, random_state=11)\n",
    "model5 = make_pipeline(StandardScaler(), SGDClassifier(alpha=0.01))\n",
    "ensemble = RandomForestClassifier(max_depth=20)\n",
    "\n",
    "from sklearn.ensemble import VotingClassifier\n",
    "\n",
    "model = VotingClassifier(\n",
    "    estimators=[\n",
    "        ('knn', model1), ('dt', model2), ('svc', model3),\n",
    "        ('mlp', model4), ('', model5), ('rf', ensemble)\n",
    "    ],\n",
    "    voting='hard',\n",
    "    n_jobs=-1\n",
    ")\n",
    "\n",
    "# model = model.fit(X_train, y_train)"
   ],
   "outputs": [],
   "metadata": {}
  },
  {
   "cell_type": "code",
   "execution_count": null,
   "source": [
    "from sklearn.decomposition import PCA"
   ],
   "outputs": [],
   "metadata": {}
  },
  {
   "cell_type": "markdown",
   "source": [
    "## Find optimal number of components"
   ],
   "metadata": {}
  },
  {
   "cell_type": "code",
   "execution_count": null,
   "source": [
    "n_components_poss = [2, 8, 12, 16, 20, 22]\n",
    "\n",
    "for n_components in n_components_poss:\n",
    "    pca = PCA(n_components=n_components)\n",
    "    pca.fit_transform(X_train)\n",
    "    print([percent for percent in pca.explained_variance_ratio_ if percent > 0.0001])"
   ],
   "outputs": [],
   "metadata": {}
  },
  {
   "cell_type": "code",
   "execution_count": null,
   "source": [
    "pca = PCA(n_components=3)\n",
    "pca_X_train = pca.fit_transform(X_train)\n",
    "pca_X_valid = pca.transform(X_valid)\n",
    "\n",
    "model.fit(pca_X_train, y_train)"
   ],
   "outputs": [],
   "metadata": {}
  },
  {
   "cell_type": "code",
   "execution_count": null,
   "source": [
    "train_error, val_error = get_mae(model, pca_X_train, pca_X_valid, y_train, y_valid)\n",
    "\n",
    "print(f'Mean Average Error (train): {train_error}')\n",
    "print(f'Mean Average Error (validation): {val_error}')"
   ],
   "outputs": [],
   "metadata": {}
  }
 ],
 "metadata": {
  "orig_nbformat": 4,
  "language_info": {
   "name": "python",
   "version": "3.8.10",
   "mimetype": "text/x-python",
   "codemirror_mode": {
    "name": "ipython",
    "version": 3
   },
   "pygments_lexer": "ipython3",
   "nbconvert_exporter": "python",
   "file_extension": ".py"
  },
  "kernelspec": {
   "name": "python3",
   "display_name": "Python 3.8.10 64-bit"
  },
  "interpreter": {
   "hash": "916dbcbb3f70747c44a77c7bcd40155683ae19c65e1c03b4aa3499c5328201f1"
  }
 },
 "nbformat": 4,
 "nbformat_minor": 2
}