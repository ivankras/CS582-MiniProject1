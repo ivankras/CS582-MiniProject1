{
 "cells": [
  {
   "cell_type": "markdown",
   "source": [
    "# Airline Passenger Satisfaction - AutoML\n",
    "----\n",
    "## Load data"
   ],
   "metadata": {}
  },
  {
   "cell_type": "code",
   "execution_count": 1,
   "source": [
    "%run ./01_data_prep.ipynb\n",
    "%run ./utils.ipynb"
   ],
   "outputs": [],
   "metadata": {}
  },
  {
   "cell_type": "markdown",
   "source": [
    "## Run AutoML"
   ],
   "metadata": {}
  },
  {
   "cell_type": "code",
   "execution_count": null,
   "source": [
    "from autosklearn.classification import AutoSklearnClassifier\n",
    "\n",
    "model = AutoSklearnClassifier(n_jobs=4)\n",
    "model.fit(X_train, y_train)\n",
    "\n",
    "# y_pred = model.predict(X_pred)\n",
    "print(\"Found models: \", model.show_models())"
   ],
   "outputs": [],
   "metadata": {}
  }
 ],
 "metadata": {
  "orig_nbformat": 4,
  "language_info": {
   "name": "python",
   "version": "3.8.10",
   "mimetype": "text/x-python",
   "codemirror_mode": {
    "name": "ipython",
    "version": 3
   },
   "pygments_lexer": "ipython3",
   "nbconvert_exporter": "python",
   "file_extension": ".py"
  },
  "kernelspec": {
   "name": "python3",
   "display_name": "Python 3.8.10 64-bit"
  },
  "interpreter": {
   "hash": "916dbcbb3f70747c44a77c7bcd40155683ae19c65e1c03b4aa3499c5328201f1"
  }
 },
 "nbformat": 4,
 "nbformat_minor": 2
}