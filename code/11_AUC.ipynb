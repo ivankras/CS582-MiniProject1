{
 "cells": [
  {
   "cell_type": "code",
   "execution_count": 1,
   "source": [
    "%run ./01_data_prep.ipynb\n",
    "%run ./utils.ipynb"
   ],
   "outputs": [],
   "metadata": {}
  },
  {
   "cell_type": "code",
   "execution_count": 2,
   "source": [
    "from sklearn.neighbors import KNeighborsClassifier\n",
    "from sklearn.tree import DecisionTreeClassifier\n",
    "from sklearn.pipeline import make_pipeline\n",
    "from sklearn.preprocessing import StandardScaler\n",
    "from sklearn.svm import SVC\n",
    "import matplotlib.pyplot as plt\n",
    "%matplotlib inline\n",
    "from sklearn.neural_network import MLPClassifier\n",
    "from sklearn.linear_model import SGDClassifier\n",
    "from autosklearn.classification import AutoSklearnClassifier\n",
    "from sklearn.ensemble import RandomForestClassifier\n",
    "from sklearn.metrics import roc_curve\n",
    "from sklearn.metrics import roc_auc_score"
   ],
   "outputs": [],
   "metadata": {}
  },
  {
   "cell_type": "code",
   "execution_count": 3,
   "source": [
    "# The models we used\n",
    "ns_probs = [0 for _ in range(len(y_valid))] # no skill probability generation\n",
    "knn = KNeighborsClassifier(n_neighbors = 5, n_jobs=-1).fit(X_train, y_train)\n",
    "knn_pred = knn.predict_proba(X_valid)[:, 1]\n",
    "dt = DecisionTreeClassifier(max_depth = 13).fit(X_train, y_train)\n",
    "dt_pred = dt.predict_proba(X_valid)[:, 1]\n",
    "\n"
   ],
   "outputs": [],
   "metadata": {}
  },
  {
   "cell_type": "code",
   "execution_count": 4,
   "source": [
    "svm = make_pipeline(StandardScaler(), SVC(gamma=0.03, C=0.8, probability=True, )).fit(X_train, y_train)\n",
    "svm_pred = svm.predict_proba(X_valid)[:, 1]\n",
    "\n"
   ],
   "outputs": [],
   "metadata": {}
  },
  {
   "cell_type": "code",
   "execution_count": null,
   "source": [
    "nn = MLPClassifier(alpha=0.001, learning_rate_init=0.005).fit(X_train, y_train)\n",
    "nn_pred = nn.predict_proba(X_valid)[:, 1]\n",
    "\n"
   ],
   "outputs": [],
   "metadata": {}
  },
  {
   "cell_type": "code",
   "execution_count": null,
   "source": [
    "sgd = make_pipeline(StandardScaler(), SGDClassifier(loss=\"log\")).fit(X_train, y_train)\n",
    "sgd_pred = sgd.predict_proba(X_valid)[:, 1]\n"
   ],
   "outputs": [],
   "metadata": {}
  },
  {
   "cell_type": "code",
   "execution_count": null,
   "source": [
    "rf = RandomForestClassifier(bootstrap=True, max_depth=50, max_features=10, n_estimators=200, n_jobs=-1).fit(X_train, y_train)\n",
    "rf_pred = rf.predict_proba(X_valid)[:, 1]"
   ],
   "outputs": [],
   "metadata": {}
  },
  {
   "cell_type": "code",
   "execution_count": null,
   "source": [
    "automl = AutoSklearnClassifier(n_jobs=-1).fit(X_train, y_train)\n"
   ],
   "outputs": [
    {
     "output_type": "error",
     "ename": "AttributeError",
     "evalue": "'AutoSklearnClassifier' object has no attribute 'preduct_proba'",
     "traceback": [
      "\u001b[0;31m---------------------------------------------------------------------------\u001b[0m",
      "\u001b[0;31mAttributeError\u001b[0m                            Traceback (most recent call last)",
      "\u001b[0;32m<ipython-input-5-30cf60d3f9c9>\u001b[0m in \u001b[0;36m<module>\u001b[0;34m\u001b[0m\n\u001b[1;32m      1\u001b[0m \u001b[0mautoml\u001b[0m \u001b[0;34m=\u001b[0m \u001b[0mAutoSklearnClassifier\u001b[0m\u001b[0;34m(\u001b[0m\u001b[0mn_jobs\u001b[0m\u001b[0;34m=\u001b[0m\u001b[0;34m-\u001b[0m\u001b[0;36m1\u001b[0m\u001b[0;34m)\u001b[0m\u001b[0;34m.\u001b[0m\u001b[0mfit\u001b[0m\u001b[0;34m(\u001b[0m\u001b[0mX_train\u001b[0m\u001b[0;34m,\u001b[0m \u001b[0my_train\u001b[0m\u001b[0;34m)\u001b[0m\u001b[0;34m\u001b[0m\u001b[0;34m\u001b[0m\u001b[0m\n\u001b[0;32m----> 2\u001b[0;31m \u001b[0mauto_pred\u001b[0m \u001b[0;34m=\u001b[0m \u001b[0mautoml\u001b[0m\u001b[0;34m.\u001b[0m\u001b[0mpreduct_proba\u001b[0m\u001b[0;34m(\u001b[0m\u001b[0mX_valid\u001b[0m\u001b[0;34m)\u001b[0m\u001b[0;34m[\u001b[0m\u001b[0;34m:\u001b[0m\u001b[0;34m,\u001b[0m \u001b[0;36m1\u001b[0m\u001b[0;34m]\u001b[0m\u001b[0;34m\u001b[0m\u001b[0;34m\u001b[0m\u001b[0m\n\u001b[0m",
      "\u001b[0;31mAttributeError\u001b[0m: 'AutoSklearnClassifier' object has no attribute 'preduct_proba'"
     ]
    }
   ],
   "metadata": {}
  },
  {
   "cell_type": "code",
   "execution_count": null,
   "source": [
    "auto_pred = automl.predict_proba(X_valid)[:, 1]"
   ],
   "outputs": [],
   "metadata": {}
  },
  {
   "cell_type": "code",
   "execution_count": null,
   "source": [
    "ns_auc = roc_auc_score(y_valid, ns_probs)\n",
    "knn_auc = roc_auc_score(y_valid, knn_pred)\n",
    "dt_auc = roc_auc_score(y_valid, dt_pred)\n",
    "svm_auc = roc_auc_score(y_valid, svm_pred)\n",
    "nn_auc = roc_auc_score(y_valid, nn_pred)\n",
    "sgd_auc = roc_auc_score(y_valid, sgd_pred)\n",
    "rf_auc = roc_auc_score(y_valid, rf_pred)\n",
    "auto_auc = roc_auc_score(y_valid, auto_pred)"
   ],
   "outputs": [
    {
     "output_type": "error",
     "ename": "NameError",
     "evalue": "name 'ns_probs' is not defined",
     "traceback": [
      "\u001b[0;31m---------------------------------------------------------------------------\u001b[0m",
      "\u001b[0;31mNameError\u001b[0m                                 Traceback (most recent call last)",
      "\u001b[0;32m<ipython-input-10-0d51c1d0d524>\u001b[0m in \u001b[0;36m<module>\u001b[0;34m\u001b[0m\n\u001b[0;32m----> 1\u001b[0;31m \u001b[0mns_auc\u001b[0m \u001b[0;34m=\u001b[0m \u001b[0mroc_auc_score\u001b[0m\u001b[0;34m(\u001b[0m\u001b[0my_valid\u001b[0m\u001b[0;34m,\u001b[0m \u001b[0mns_probs\u001b[0m\u001b[0;34m)\u001b[0m\u001b[0;34m\u001b[0m\u001b[0;34m\u001b[0m\u001b[0m\n\u001b[0m\u001b[1;32m      2\u001b[0m \u001b[0mknn_auc\u001b[0m \u001b[0;34m=\u001b[0m \u001b[0mroc_auc_score\u001b[0m\u001b[0;34m(\u001b[0m\u001b[0my_valid\u001b[0m\u001b[0;34m,\u001b[0m \u001b[0mknn_pred\u001b[0m\u001b[0;34m)\u001b[0m\u001b[0;34m\u001b[0m\u001b[0;34m\u001b[0m\u001b[0m\n\u001b[1;32m      3\u001b[0m \u001b[0mdt_auc\u001b[0m \u001b[0;34m=\u001b[0m \u001b[0mroc_auc_score\u001b[0m\u001b[0;34m(\u001b[0m\u001b[0my_valid\u001b[0m\u001b[0;34m,\u001b[0m \u001b[0mdt_pred\u001b[0m\u001b[0;34m)\u001b[0m\u001b[0;34m\u001b[0m\u001b[0;34m\u001b[0m\u001b[0m\n\u001b[1;32m      4\u001b[0m \u001b[0msvm_auc\u001b[0m \u001b[0;34m=\u001b[0m \u001b[0mroc_auc_score\u001b[0m\u001b[0;34m(\u001b[0m\u001b[0my_valid\u001b[0m\u001b[0;34m,\u001b[0m \u001b[0msvm_pred\u001b[0m\u001b[0;34m)\u001b[0m\u001b[0;34m\u001b[0m\u001b[0;34m\u001b[0m\u001b[0m\n\u001b[1;32m      5\u001b[0m \u001b[0mnn_auc\u001b[0m \u001b[0;34m=\u001b[0m \u001b[0mroc_auc_score\u001b[0m\u001b[0;34m(\u001b[0m\u001b[0my_valid\u001b[0m\u001b[0;34m,\u001b[0m \u001b[0mnn_pred\u001b[0m\u001b[0;34m)\u001b[0m\u001b[0;34m\u001b[0m\u001b[0;34m\u001b[0m\u001b[0m\n",
      "\u001b[0;31mNameError\u001b[0m: name 'ns_probs' is not defined"
     ]
    }
   ],
   "metadata": {}
  },
  {
   "cell_type": "code",
   "execution_count": null,
   "source": [
    "ns_fpr, ns_tpr, _ = roc_curve(y_valid, ns_probs)\n",
    "knn_fpr, knn_tpr, _ = roc_curve(y_valid, knn_pred)\n",
    "dt_fpr, dt_tpr, _ = roc_curve(y_valid, dt_pred)\n",
    "svm_fpr, svm_tpr, _ = roc_curve(y_valid, svm_pred)\n",
    "nn_fpr, nn_tpr, _ = roc_curve(y_valid, nn_pred)\n",
    "sgd_fpr, sgd_tpr, _ = roc_curve(y_valid, sgd_pred)\n",
    "rf_fpr, rf_tpr, _ = roc_curve(y_valid, rf_pred)\n",
    "auto_fpr, auto_tpr, _ = roc_curve(y_valid, auto_pred)\n"
   ],
   "outputs": [],
   "metadata": {}
  },
  {
   "cell_type": "code",
   "execution_count": null,
   "source": [
    "plt.plot(ns_fpr, ns_tpr, linestyle='--', label='No Skill')\n",
    "plt.plot(knn_fpr, knn_tpr, marker='.', label='KNN')\n",
    "plt.plot(dt_fpr, dt_tpr, marker='.', label='DT')\n",
    "plt.plot(svm_fpr, svm_tpr, marker='.', label='SVM')\n",
    "plt.plot(nn_fpr, nn_tpr, marker='.', label='NN')\n",
    "plt.plot(sgd_fpr, sgd_tpr, marker='.', label='SGD')\n",
    "plt.plot(rf_fpr, rf_tpr, marker='.', label='RF')\n",
    "plt.xlabel('False Positive Rate')\n",
    "plt.ylabel('True Positive Rate')\n",
    "plt.legend()\n",
    "plt.savefig(\"AUC.png\")"
   ],
   "outputs": [
    {
     "output_type": "execute_result",
     "data": {
      "text/plain": [
       "<matplotlib.legend.Legend at 0x19a32a53208>"
      ]
     },
     "metadata": {},
     "execution_count": 20
    },
    {
     "output_type": "display_data",
     "data": {
      "text/plain": [
       "<Figure size 432x288 with 1 Axes>"
      ],
      "image/png": "[encoded data removed]"
     },
     "metadata": {
      "needs_background": "light"
     }
    }
   ],
   "metadata": {}
  },
  {
   "cell_type": "code",
   "execution_count": null,
   "source": [
    "print('No Skill: ROC AUC=%.3f' % (ns_auc))\n",
    "print('KNN: ROC AUC=%.3f' % (knn_auc))\n",
    "print('DT: ROC AUC=%.3f' % (dt_auc))\n",
    "print('SVM: ROC AUC=%.3f' % (svm_auc))\n",
    "print('NN: ROC AUC=%.3f' % (nn_auc))\n",
    "print('SGD: ROC AUC=%.3f' % (sgd_auc))\n",
    "print('RF: ROC AUC=%.3f' % (rf_auc))"
   ],
   "outputs": [
    {
     "output_type": "stream",
     "name": "stdout",
     "text": [
      "No Skill: ROC AUC=0.500\n",
      "KNN: ROC AUC=0.837\n",
      "DT: ROC AUC=0.981\n",
      "SVM: ROC AUC=0.988\n",
      "NN: ROC AUC=0.982\n",
      "SGD: ROC AUC=0.927\n",
      "RF: ROC AUC=0.995\n"
     ]
    }
   ],
   "metadata": {}
  },
  {
   "cell_type": "code",
   "execution_count": null,
   "source": [
    "rf_fpr, rf_tpr, _ = roc_curve(y_valid, rf_pred)\n",
    "auto_fpr, auto_tpr, _ = roc_curve(y_valid, auto_pred)\n",
    "\n",
    "rf_auc = roc_auc_score(y_valid, rf_pred)\n",
    "auto_auc = roc_auc_score(y_valid, auto_pred)\n",
    "\n",
    "plt.plot(auto_fpr, auto_tpr, marker='.', label='AutoML')\n",
    "plt.plot(rf_fpr, rf_tpr, marker='.', label='RF')\n",
    "\n",
    "plt.xlabel('False Positive Rate')\n",
    "plt.ylabel('True Positive Rate')\n",
    "plt.legend()\n",
    "plt.savefig(\"AUC_automl.png\")"
   ],
   "outputs": [
    {
     "output_type": "display_data",
     "data": {
      "text/plain": [
       "<Figure size 432x288 with 1 Axes>"
      ],
      "image/png": "[encoded data removed]"
     },
     "metadata": {
      "needs_background": "light"
     }
    }
   ],
   "metadata": {}
  },
  {
   "cell_type": "code",
   "execution_count": null,
   "source": [
    "print('RF: ROC AUC=%.3f' % (rf_auc))\n",
    "print('AutoML: ROC AUC=%.3f' % (auto_auc))\n",
    "# RF AUC = 0.995\n",
    "# AutoML AUC = 0.996"
   ],
   "outputs": [
    {
     "output_type": "stream",
     "name": "stdout",
     "text": [
      "RF: ROC AUC=0.995\n",
      "AutoML: ROC AUC=0.996\n"
     ]
    }
   ],
   "metadata": {}
  }
 ],
 "metadata": {
  "orig_nbformat": 4,
  "language_info": {
   "name": "python",
   "version": "3.8.8",
   "mimetype": "text/x-python",
   "codemirror_mode": {
    "name": "ipython",
    "version": 3
   },
   "pygments_lexer": "ipython3",
   "nbconvert_exporter": "python",
   "file_extension": ".py"
  },
  "kernelspec": {
   "name": "python3",
   "display_name": "Python 3.8.8 64-bit ('base': conda)"
  },
  "interpreter": {
   "hash": "98f5bd2dc4419a3a2a6dfd5f48c070239cdc296a2553dbd89ed53d7c3a40ba3a"
  }
 },
 "nbformat": 4,
 "nbformat_minor": 2
}