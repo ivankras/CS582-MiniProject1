{
 "cells": [
  {
   "cell_type": "markdown",
   "source": [
    "# Airline Passenger Satisfaction - ROC AUC\n",
    "----\n",
    "## Load data"
   ],
   "metadata": {}
  },
  {
   "cell_type": "code",
   "execution_count": null,
   "source": [
    "%run ./01_data_prep.ipynb\n",
    "%run ./utils.ipynb"
   ],
   "outputs": [],
   "metadata": {}
  },
  {
   "cell_type": "code",
   "execution_count": null,
   "source": [
    "from sklearn.neighbors import KNeighborsClassifier\n",
    "from sklearn.tree import DecisionTreeClassifier\n",
    "from sklearn.pipeline import make_pipeline\n",
    "from sklearn.preprocessing import StandardScaler\n",
    "from sklearn.svm import SVC\n",
    "import matplotlib.pyplot as plt\n",
    "%matplotlib inline\n",
    "from sklearn.neural_network import MLPClassifier\n",
    "from sklearn.linear_model import SGDClassifier\n",
    "from autosklearn.classification import AutoSklearnClassifier\n",
    "from sklearn.ensemble import RandomForestClassifier\n",
    "from sklearn.metrics import roc_curve\n",
    "from sklearn.metrics import roc_auc_score"
   ],
   "outputs": [],
   "metadata": {}
  },
  {
   "cell_type": "code",
   "execution_count": null,
   "source": [
    "# The models we used\n",
    "ns_probs = [0 for _ in range(len(y_valid))] # no skill probability generation\n",
    "knn = KNeighborsClassifier(n_neighbors = 5, n_jobs=-1).fit(X_train, y_train)\n",
    "knn_pred = knn.predict_proba(X_valid)[:, 1]\n",
    "dt = DecisionTreeClassifier(max_depth = 13).fit(X_train, y_train)\n",
    "dt_pred = dt.predict_proba(X_valid)[:, 1]\n",
    "\n"
   ],
   "outputs": [],
   "metadata": {}
  },
  {
   "cell_type": "code",
   "execution_count": null,
   "source": [
    "svm = make_pipeline(StandardScaler(), SVC(gamma=0.03, C=0.8, probability=True, )).fit(X_train, y_train)\n",
    "svm_pred = svm.predict_proba(X_valid)[:, 1]\n",
    "\n"
   ],
   "outputs": [],
   "metadata": {}
  },
  {
   "cell_type": "code",
   "execution_count": null,
   "source": [
    "nn = MLPClassifier(alpha=0.001, learning_rate_init=0.005).fit(X_train, y_train)\n",
    "nn_pred = nn.predict_proba(X_valid)[:, 1]\n",
    "\n"
   ],
   "outputs": [],
   "metadata": {}
  },
  {
   "cell_type": "code",
   "execution_count": null,
   "source": [
    "sgd = make_pipeline(StandardScaler(), SGDClassifier(loss=\"log\")).fit(X_train, y_train)\n",
    "sgd_pred = sgd.predict_proba(X_valid)[:, 1]\n"
   ],
   "outputs": [],
   "metadata": {}
  },
  {
   "cell_type": "code",
   "execution_count": null,
   "source": [
    "rf = RandomForestClassifier(bootstrap=True, max_depth=50, max_features=10, n_estimators=200, n_jobs=-1).fit(X_train, y_train)\n",
    "rf_pred = rf.predict_proba(X_valid)[:, 1]"
   ],
   "outputs": [],
   "metadata": {}
  },
  {
   "cell_type": "code",
   "execution_count": null,
   "source": [
    "automl = AutoSklearnClassifier(n_jobs=-1).fit(X_train, y_train)\n"
   ],
   "outputs": [],
   "metadata": {}
  },
  {
   "cell_type": "code",
   "execution_count": null,
   "source": [
    "auto_pred = automl.predict_proba(X_valid)[:, 1]"
   ],
   "outputs": [],
   "metadata": {}
  },
  {
   "cell_type": "code",
   "execution_count": null,
   "source": [
    "from sklearn.ensemble import VotingClassifier\n",
    "\n",
    "classifier = VotingClassifier(\n",
    "    estimators=[\n",
    "        ('knn', knn), ('dt', dt), ('svc', svm),\n",
    "        ('mlp', nn), ('sgd', sgd), ('rf', rf)\n",
    "    ],\n",
    "    voting='soft',\n",
    "    n_jobs=-1\n",
    ")\n",
    "\n",
    "classifier = classifier.fit(X_train, y_train)\n",
    "vote_pred = classifier.predict_proba(X_valid)[:, 1]\n"
   ],
   "outputs": [],
   "metadata": {}
  },
  {
   "cell_type": "code",
   "execution_count": null,
   "source": [
    "ns_auc = roc_auc_score(y_valid, ns_probs)\n",
    "knn_auc = roc_auc_score(y_valid, knn_pred)\n",
    "dt_auc = roc_auc_score(y_valid, dt_pred)\n",
    "svm_auc = roc_auc_score(y_valid, svm_pred)\n",
    "nn_auc = roc_auc_score(y_valid, nn_pred)\n",
    "sgd_auc = roc_auc_score(y_valid, sgd_pred)\n",
    "rf_auc = roc_auc_score(y_valid, rf_pred)\n",
    "auto_auc = roc_auc_score(y_valid, auto_pred)"
   ],
   "outputs": [],
   "metadata": {}
  },
  {
   "cell_type": "code",
   "execution_count": null,
   "source": [
    "ns_fpr, ns_tpr, _ = roc_curve(y_valid, ns_probs)\n",
    "knn_fpr, knn_tpr, _ = roc_curve(y_valid, knn_pred)\n",
    "dt_fpr, dt_tpr, _ = roc_curve(y_valid, dt_pred)\n",
    "svm_fpr, svm_tpr, _ = roc_curve(y_valid, svm_pred)\n",
    "nn_fpr, nn_tpr, _ = roc_curve(y_valid, nn_pred)\n",
    "sgd_fpr, sgd_tpr, _ = roc_curve(y_valid, sgd_pred)\n",
    "rf_fpr, rf_tpr, _ = roc_curve(y_valid, rf_pred)\n",
    "auto_fpr, auto_tpr, _ = roc_curve(y_valid, auto_pred)\n"
   ],
   "outputs": [],
   "metadata": {}
  },
  {
   "cell_type": "code",
   "execution_count": null,
   "source": [
    "plt.plot(ns_fpr, ns_tpr, linestyle='--', label='No Skill')\n",
    "plt.plot(knn_fpr, knn_tpr, marker='.', label='KNN')\n",
    "plt.plot(dt_fpr, dt_tpr, marker='.', label='DT')\n",
    "plt.plot(svm_fpr, svm_tpr, marker='.', label='SVM')\n",
    "plt.plot(nn_fpr, nn_tpr, marker='.', label='NN')\n",
    "plt.plot(sgd_fpr, sgd_tpr, marker='.', label='SGD')\n",
    "plt.plot(rf_fpr, rf_tpr, marker='.', label='RF')\n",
    "plt.xlabel('False Positive Rate')\n",
    "plt.ylabel('True Positive Rate')\n",
    "plt.legend()\n",
    "plt.savefig(\"AUC.png\")"
   ],
   "outputs": [],
   "metadata": {}
  },
  {
   "cell_type": "code",
   "execution_count": null,
   "source": [
    "print('No Skill: ROC AUC=%.3f' % (ns_auc))\n",
    "print('KNN: ROC AUC=%.3f' % (knn_auc))\n",
    "print('DT: ROC AUC=%.3f' % (dt_auc))\n",
    "print('SVM: ROC AUC=%.3f' % (svm_auc))\n",
    "print('NN: ROC AUC=%.3f' % (nn_auc))\n",
    "print('SGD: ROC AUC=%.3f' % (sgd_auc))\n",
    "print('RF: ROC AUC=%.3f' % (rf_auc))"
   ],
   "outputs": [],
   "metadata": {}
  },
  {
   "cell_type": "code",
   "execution_count": null,
   "source": [
    "vote_fpr, vote_tpr, _ = roc_curve(y_valid, rf_pred)\n",
    "auto_fpr, auto_tpr, _ = roc_curve(y_valid, auto_pred)\n",
    "rf_fpr, rf_tpr, _ = roc_curve(y_valid, rf_pred)\n",
    "\n",
    "vote_auc = roc_auc_score(y_valid, vote_pred)\n",
    "auto_auc = roc_auc_score(y_valid, auto_pred)\n",
    "\n",
    "plt.plot(auto_fpr, auto_tpr, marker='.', label='AutoML')\n",
    "plt.plot(vote_fpr, vote_tpr, marker='.', label='Voting Classifier')\n",
    "plt.plot(rf_fpr, vote_tpr, marker='.', label='RF Classifier')\n",
    "\n",
    "plt.xlabel('False Positive Rate')\n",
    "plt.ylabel('True Positive Rate')\n",
    "plt.legend()\n",
    "plt.savefig(\"AUC_automl.png\")"
   ],
   "outputs": [],
   "metadata": {}
  },
  {
   "cell_type": "code",
   "execution_count": null,
   "source": [
    "print('Voting Classifier: ROC AUC=%.3f' % (vote_auc))\n",
    "print('AutoML: ROC AUC=%.3f' % (auto_auc))\n",
    "print('RF: ROC AUC=%.3f' % (rf_auc))\n",
    "# Vote AUC = 0.995\n",
    "# AutoML AUC = 0.995\n",
    "# RF_AUC=0.995"
   ],
   "outputs": [],
   "metadata": {}
  }
 ],
 "metadata": {
  "orig_nbformat": 4,
  "language_info": {
   "name": "python",
   "version": "3.8.8",
   "mimetype": "text/x-python",
   "codemirror_mode": {
    "name": "ipython",
    "version": 3
   },
   "pygments_lexer": "ipython3",
   "nbconvert_exporter": "python",
   "file_extension": ".py"
  },
  "kernelspec": {
   "name": "python3",
   "display_name": "Python 3.8.8 64-bit ('base': conda)"
  },
  "interpreter": {
   "hash": "98f5bd2dc4419a3a2a6dfd5f48c070239cdc296a2553dbd89ed53d7c3a40ba3a"
  }
 },
 "nbformat": 4,
 "nbformat_minor": 2
}