{
 "cells": [
  {
   "cell_type": "markdown",
   "source": [
    "# Airline Passenger Satisfaction - Ensemble: Random Forest\n",
    "----\n",
    "## Load data"
   ],
   "metadata": {}
  },
  {
   "cell_type": "code",
   "execution_count": null,
   "source": [
    "%run ./01_data_prep.ipynb\n",
    "%run ./utils.ipynb"
   ],
   "outputs": [],
   "metadata": {}
  },
  {
   "cell_type": "code",
   "execution_count": null,
   "source": [
    "from sklearn.ensemble import RandomForestClassifier"
   ],
   "outputs": [],
   "metadata": {}
  },
  {
   "cell_type": "code",
   "execution_count": null,
   "source": [
    "clf = RandomForestClassifier()\n",
    "\n",
    "clf = clf.fit(X_train,y_train)\n",
    "\n",
    "y_pred = clf.predict(X_valid)\n"
   ],
   "outputs": [],
   "metadata": {}
  },
  {
   "cell_type": "code",
   "execution_count": null,
   "source": [
    "clf.max_leaf_nodes"
   ],
   "outputs": [],
   "metadata": {}
  },
  {
   "cell_type": "code",
   "execution_count": null,
   "source": [
    "from sklearn import metrics\n",
    "metrics.accuracy_score(y_valid, y_pred)"
   ],
   "outputs": [],
   "metadata": {}
  },
  {
   "cell_type": "code",
   "execution_count": null,
   "source": [
    "from sklearn.model_selection import GridSearchCV\n",
    "import numpy as np\n",
    "param_grid = [\n",
    "{'n_estimators': [10, 25, 100, 200], 'max_features': [10, 25, 30], \n",
    " 'max_depth': [50, None], 'bootstrap': [True, False]}\n",
    "]\n",
    "# Cross validating data with 5 folds\n",
    "dt_gs = GridSearchCV(clf, param_grid, cv=5, n_jobs=-1)\n",
    "\n",
    "dt_gs.fit(X_train,y_train)"
   ],
   "outputs": [],
   "metadata": {}
  },
  {
   "cell_type": "code",
   "execution_count": null,
   "source": [
    "# Check score when n = best value according to grid search\r\n",
    "dt_gs.best_score_"
   ],
   "outputs": [],
   "metadata": {}
  },
  {
   "cell_type": "code",
   "execution_count": null,
   "source": [
    "dt_gs.best_params_"
   ],
   "outputs": [],
   "metadata": {}
  },
  {
   "cell_type": "code",
   "execution_count": null,
   "source": [
    "p = [1, 10, 25, 50, 100]\r\n",
    "lst_test =[]\r\n",
    "lst_train =[]\r\n",
    "for i in p:\r\n",
    "    dt = RandomForestClassifier(max_depth = i, n_jobs=-1)\r\n",
    "    dt.fit(X_train, y_train)\r\n",
    "    z = dt.score(X_valid, y_valid)\r\n",
    "    t = dt.score(X_train, y_train)\r\n",
    "    lst_test.append(z)\r\n",
    "    lst_train.append(t)"
   ],
   "outputs": [],
   "metadata": {}
  },
  {
   "cell_type": "code",
   "execution_count": null,
   "source": [
    "import matplotlib.pyplot as plt"
   ],
   "outputs": [],
   "metadata": {}
  },
  {
   "cell_type": "code",
   "execution_count": null,
   "source": [
    "plt.plot(p, lst_test, color ='red', label ='Test Accuracy')\r\n",
    "plt.plot(p, lst_train, color ='b', label ='Train Accuracy')\r\n",
    "plt.xlabel('Model Complexity --->')\r\n",
    "plt.title('Best value of max_depth')\r\n",
    "plt.legend()\r\n",
    "plt.savefig('RF_complexity_depth.png')"
   ],
   "outputs": [],
   "metadata": {}
  },
  {
   "cell_type": "code",
   "execution_count": null,
   "source": [
    "# Using default params\r\n",
    "model = RandomForestClassifier()\r\n",
    "\r\n",
    "plot_learning_curve(model, \"RF Learning Curve\", X_train, y_train, n_jobs=-1)\r\n",
    "plt.savefig(\"learning_curve_RF_big.png\")"
   ],
   "outputs": [],
   "metadata": {}
  }
 ],
 "metadata": {
  "orig_nbformat": 4,
  "language_info": {
   "name": "python",
   "version": "3.7.8",
   "mimetype": "text/x-python",
   "codemirror_mode": {
    "name": "ipython",
    "version": 3
   },
   "pygments_lexer": "ipython3",
   "nbconvert_exporter": "python",
   "file_extension": ".py"
  },
  "kernelspec": {
   "name": "python3",
   "display_name": "Python 3.7.8 64-bit"
  },
  "interpreter": {
   "hash": "29e15060d7e00ef5f5fcf3dcb1370e1b29be4566dbf1f2e478355de37df1c4d3"
  }
 },
 "nbformat": 4,
 "nbformat_minor": 2
}