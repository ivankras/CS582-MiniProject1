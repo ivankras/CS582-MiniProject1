{
 "cells": [
  {
   "cell_type": "markdown",
   "source": [
    "# Airline Passenger Satisfaction - Voting Classifier\n",
    "----\n",
    "## Load models"
   ],
   "metadata": {}
  },
  {
   "cell_type": "code",
   "execution_count": null,
   "source": [
    "# TODO: Like this or some other way\n",
    "from sklearn.pipeline import make_pipeline\n",
    "from sklearn.preprocessing import StandardScaler\n",
    "from sklearn.svm import SVC\n",
    "from sklearn.neural_network import MLPClassifier\n",
    "\n",
    "model1 = object\n",
    "model2 = object\n",
    "model3 = make_pipeline(StandardScaler(), SVC(gamma=0.03, C=0.8))\n",
    "model4 = MLPClassifier(alpha=0.001, learning_rate_init=0.005, random_state=11)\n",
    "model5 = object\n",
    "ensemble = object\n"
   ],
   "outputs": [],
   "metadata": {}
  },
  {
   "cell_type": "markdown",
   "source": [
    "## Load data"
   ],
   "metadata": {}
  },
  {
   "cell_type": "code",
   "execution_count": null,
   "source": [
    "%run ./01_data_prep.ipynb\n",
    "%run ./utils.ipynb"
   ],
   "outputs": [],
   "metadata": {}
  },
  {
   "cell_type": "markdown",
   "source": [
    "## Create Voting Classifier"
   ],
   "metadata": {}
  },
  {
   "cell_type": "code",
   "execution_count": null,
   "source": [
    "from sklearn.ensemble import VotingClassifier\n",
    "\n",
    "classifier = VotingClassifier(\n",
    "    estimators=[\n",
    "        ('knn', model1), ('dt', model2), ('svc', model3),\n",
    "        ('mlp', model4), ('', model5), ('rf', ensemble)\n",
    "    ],\n",
    "    voting='hard',\n",
    "    n_jobs=4\n",
    ")\n",
    "\n",
    "classifier = classifier.fit(X_train, y_train)\n",
    "train_error, val_error = get_mae(classifier, X_train, X_val, y_train, y_val)\n",
    "\n",
    "print(f'Mean Average Error (train): {train_error}')\n",
    "print(f'Mean Average Error (validation): {val_error}')\n",
    "\n",
    "plot_learning_curve(classifier, 'Learning curves (Voting Classifier)', X_train, y_train, ylim=(0.8, 1.01), n_jobs=4)\n"
   ],
   "outputs": [],
   "metadata": {}
  }
 ],
 "metadata": {
  "orig_nbformat": 4,
  "language_info": {
   "name": "python",
   "version": "3.8.10",
   "mimetype": "text/x-python",
   "codemirror_mode": {
    "name": "ipython",
    "version": 3
   },
   "pygments_lexer": "ipython3",
   "nbconvert_exporter": "python",
   "file_extension": ".py"
  },
  "kernelspec": {
   "name": "python3",
   "display_name": "Python 3.8.10 64-bit"
  },
  "interpreter": {
   "hash": "916dbcbb3f70747c44a77c7bcd40155683ae19c65e1c03b4aa3499c5328201f1"
  }
 },
 "nbformat": 4,
 "nbformat_minor": 2
}