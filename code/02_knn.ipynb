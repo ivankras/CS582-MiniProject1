{
 "cells": [
  {
   "cell_type": "markdown",
   "source": [
    "# Airline Passenger Satisfaction - Model 1: K Nearest Neighbors\n",
    "----\n",
    "## Load data"
   ],
   "metadata": {}
  },
  {
   "cell_type": "code",
   "execution_count": null,
   "source": [
    "%run ./01_data_prep.ipynb\n",
    "%run ./utils.ipynb\n",
    "#data is stored in X_train, X_valid, y_train, y_valid"
   ],
   "outputs": [],
   "metadata": {}
  },
  {
   "cell_type": "code",
   "execution_count": null,
   "source": [
    "from sklearn.neighbors import KNeighborsClassifier"
   ],
   "outputs": [],
   "metadata": {}
  },
  {
   "cell_type": "markdown",
   "source": [
    "## Training a KNN Classifier with neighbors = 5"
   ],
   "metadata": {}
  },
  {
   "cell_type": "code",
   "execution_count": null,
   "source": [
    "knn = KNeighborsClassifier(n_neighbors=5, n_jobs=4)\n",
    "knn.fit(X_train,y_train)"
   ],
   "outputs": [],
   "metadata": {}
  },
  {
   "cell_type": "code",
   "execution_count": null,
   "source": [
    "knn.score(X_valid, y_valid)"
   ],
   "outputs": [],
   "metadata": {}
  },
  {
   "cell_type": "markdown",
   "source": [
    "## Tuning the classifier with GridSearch"
   ],
   "metadata": {}
  },
  {
   "cell_type": "code",
   "execution_count": null,
   "source": [
    "from sklearn.model_selection import GridSearchCV\n",
    "import numpy as np"
   ],
   "outputs": [],
   "metadata": {}
  },
  {
   "cell_type": "code",
   "execution_count": null,
   "source": [
    "# Trying with neighbors set on range 1-25\n",
    "param_grid = {'n_neighbors' : np.arange(1, 15)}\n",
    "\n",
    "# Cross validating data with 5 folds\n",
    "knn_gs = GridSearchCV(knn, param_grid, cv=5)\n",
    "\n",
    "knn_gs.fit(X_train,y_train)"
   ],
   "outputs": [],
   "metadata": {}
  },
  {
   "cell_type": "code",
   "execution_count": null,
   "source": [
    "# Check score when n = best value according to grid search\n",
    "knn_gs.best_score_"
   ],
   "outputs": [],
   "metadata": {}
  },
  {
   "cell_type": "code",
   "execution_count": null,
   "source": [
    "# Check best value for number of neighbors\n",
    "knn_gs.best_params_"
   ],
   "outputs": [],
   "metadata": {}
  },
  {
   "cell_type": "code",
   "execution_count": null,
   "source": [
    "p = list(range(1, 20, 2))\n",
    "lst_test =[]\n",
    "lst_train =[]\n",
    "for i in p:\n",
    "    knn2 = KNeighborsClassifier(n_neighbors = i, n_jobs=4)\n",
    "    knn2.fit(X_train, y_train)\n",
    "    z = knn2.score(X_valid, y_valid)\n",
    "    t = knn2.score(X_train, y_train)\n",
    "    lst_test.append(z)\n",
    "    lst_train.append(t)"
   ],
   "outputs": [],
   "metadata": {}
  },
  {
   "cell_type": "code",
   "execution_count": null,
   "source": [
    "import matplotlib.pyplot as plt"
   ],
   "outputs": [],
   "metadata": {}
  },
  {
   "cell_type": "code",
   "execution_count": null,
   "source": [
    "plt.plot(p, lst_test, color ='red', label ='Test Accuracy')\n",
    "plt.plot(p, lst_train, color ='b', label ='Train Accuracy')\n",
    "plt.xlabel('n_neighbors values --->')\n",
    "plt.title('Best value of n_neighbors')\n",
    "plt.legend()\n",
    "plt.savefig('knn_complexity.png')"
   ],
   "outputs": [],
   "metadata": {}
  },
  {
   "cell_type": "markdown",
   "source": [
    "This matches the findings of GridSearch, best value for number of neighbors hyperparameter is 5"
   ],
   "metadata": {}
  },
  {
   "cell_type": "code",
   "execution_count": null,
   "source": [
    "# Using n_neighbors = 5\n",
    "model = KNeighborsClassifier(n_neighbors = 5)\n",
    "\n",
    "plot_learning_curve(model, \"KNN Learning Curve\", X_train, y_train, n_jobs=4)\n",
    "plt.savefig(\"learning_curve_knn.png\")"
   ],
   "outputs": [],
   "metadata": {}
  },
  {
   "cell_type": "markdown",
   "source": [
    "Plot shows high variance but decreasing bias with more training data."
   ],
   "metadata": {}
  }
 ],
 "metadata": {
  "kernelspec": {
   "name": "python3",
   "display_name": "Python 3.8.8 64-bit ('base': conda)"
  },
  "language_info": {
   "codemirror_mode": {
    "name": "ipython",
    "version": 3
   },
   "file_extension": ".py",
   "mimetype": "text/x-python",
   "name": "python",
   "nbconvert_exporter": "python",
   "pygments_lexer": "ipython3",
   "version": "3.8.8"
  },
  "interpreter": {
   "hash": "98f5bd2dc4419a3a2a6dfd5f48c070239cdc296a2553dbd89ed53d7c3a40ba3a"
  }
 },
 "nbformat": 4,
 "nbformat_minor": 4
}