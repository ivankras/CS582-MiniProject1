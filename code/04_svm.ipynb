{
 "cells": [
  {
   "cell_type": "markdown",
   "source": [
    "# Airline Passenger Satisfaction - Model 3: Support Vector Machine\n",
    "----\n",
    "### Prepare data"
   ],
   "metadata": {}
  },
  {
   "cell_type": "code",
   "execution_count": 21,
   "source": [
    "%run ./01_data_prep.ipynb\n",
    "%run ./utils.ipynb"
   ],
   "outputs": [],
   "metadata": {}
  },
  {
   "cell_type": "markdown",
   "source": [
    "## Run Classifier: SVM\n",
    "#### Try to select best parameters"
   ],
   "metadata": {}
  },
  {
   "cell_type": "code",
   "execution_count": 12,
   "source": [
    "from sklearn.pipeline import make_pipeline\n",
    "from sklearn.preprocessing import StandardScaler\n",
    "from sklearn.svm import SVC\n",
    "import matplotlib.pyplot as plt\n",
    "%matplotlib inline\n",
    "import seaborn as sns\n",
    "import pandas as pd"
   ],
   "outputs": [],
   "metadata": {}
  },
  {
   "cell_type": "markdown",
   "source": [
    "## Tuning gamma parameter"
   ],
   "metadata": {}
  },
  {
   "cell_type": "code",
   "execution_count": null,
   "source": [
    "# compare MAE with differing values of hyperparameter gamma (+ plot)\n",
    "gamma_values = [0.001, 0.01, 0.03, 0.05, 0.08, 0.1, 0.5]\n",
    "mae_train, mae_val = [], []\n",
    "for gamma in gamma_values:\n",
    "    # StandardScaler: Standardize features by removing the mean and scaling to unit variance\n",
    "    # SVC: Support Vector Classifier\n",
    "    #   gamma: kernel coefficient for rbf(default), poly and sigmoid\n",
    "    model = make_pipeline(StandardScaler(), SVC(gamma=gamma))\n",
    "    mt, mv = get_mae(model, X_train, X_valid, y_train, y_valid)\n",
    "    mae_train.append(mt)\n",
    "    mae_val.append(mv)\n",
    "    print(f'Gamma value: {gamma}  \\t\\t Training Error: {mt}  \\t\\t Validation Error: {mv}')\n"
   ],
   "outputs": [],
   "metadata": {}
  },
  {
   "cell_type": "code",
   "execution_count": null,
   "source": [
    "# Add plot\n",
    "plt.title('Error for different gamma values')\n",
    "plt.xlabel('gamma')\n",
    "plt.ylabel('error')\n",
    "plt.xticks(range(len(gamma_values)), gamma_values)\n",
    "sns.lineplot(data=mae_train, label='train_error')\n",
    "sns.lineplot(data=mae_val, label='test_error')"
   ],
   "outputs": [],
   "metadata": {}
  },
  {
   "cell_type": "markdown",
   "source": [
    "## Tuning C parameter\n",
    "Using the previous result, we set gamma=0.03"
   ],
   "metadata": {}
  },
  {
   "cell_type": "code",
   "execution_count": null,
   "source": [
    "# compare MAE with differing values of hyperparameter C (how much fit data) (+ plot)\n",
    "C_values = [0.02, 0.2, 0.8, 1.2, 2, 5, 10]\n",
    "mae_train, mae_val = [], []\n",
    "for c in C_values:\n",
    "    # StandardScaler: Standardize features by removing the mean and scaling to unit variance\n",
    "    # SVC: Support Vector Classifier\n",
    "    #   C: regularization parameter (higher C, higher variance)\n",
    "    model = make_pipeline(StandardScaler(), SVC(gamma=0.03, C=c))\n",
    "    mt, mv = get_mae(model, X_train, X_valid, y_train, y_valid)\n",
    "    mae_train.append(mt)\n",
    "    mae_val.append(mv)\n",
    "    print(f'C value: {c}  \\t\\t Training Error: {mt}  \\t\\t Validation Error: {mv}')\n"
   ],
   "outputs": [],
   "metadata": {}
  },
  {
   "cell_type": "code",
   "execution_count": null,
   "source": [
    "# Add plot\n",
    "plt.title('Error for different C values (gamma=0.03)')\n",
    "plt.xlabel('C')\n",
    "plt.ylabel('error')\n",
    "plt.xticks(range(len(C_values)), C_values)\n",
    "sns.lineplot(data=mae_train, label='train_error')\n",
    "sns.lineplot(data=mae_val, label='test_error')"
   ],
   "outputs": [],
   "metadata": {}
  },
  {
   "cell_type": "markdown",
   "source": [
    "## Learning Curve\n",
    "Using the previous results, we set gamma=0.03 and C=0.8"
   ],
   "metadata": {}
  },
  {
   "cell_type": "code",
   "execution_count": null,
   "source": [
    "model = make_pipeline(StandardScaler(), SVC(gamma=0.03, C=0.8))\n",
    "\n",
    "title = \"Learning Curves\"\n",
    "plot_learning_curve(model, title, X_train, y_train, ylim=(0.8, 1.01), n_jobs=4)\n",
    "\n",
    "plt.show()"
   ],
   "outputs": [],
   "metadata": {}
  }
 ],
 "metadata": {
  "orig_nbformat": 4,
  "language_info": {
   "name": "python",
   "version": "3.8.10",
   "mimetype": "text/x-python",
   "codemirror_mode": {
    "name": "ipython",
    "version": 3
   },
   "pygments_lexer": "ipython3",
   "nbconvert_exporter": "python",
   "file_extension": ".py"
  },
  "kernelspec": {
   "name": "python3",
   "display_name": "Python 3.8.10 64-bit"
  },
  "interpreter": {
   "hash": "916dbcbb3f70747c44a77c7bcd40155683ae19c65e1c03b4aa3499c5328201f1"
  }
 },
 "nbformat": 4,
 "nbformat_minor": 2
}