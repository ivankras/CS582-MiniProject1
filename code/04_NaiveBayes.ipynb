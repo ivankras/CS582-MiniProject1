{
 "cells": [
  {
   "cell_type": "code",
   "execution_count": 2,
   "id": "c86e8c91-6418-41c4-ae69-32292ef2e17b",
   "metadata": {},
   "outputs": [],
   "source": [
    "from sklearn.linear_model import SGDClassifier\n",
    "from sklearn.pipeline import make_pipeline\n",
    "from sklearn.preprocessing import StandardScaler"
   ]
  },
  {
   "cell_type": "code",
   "execution_count": 10,
   "id": "dcf9163a-bab8-4e47-b64e-bf0de7ba6ace",
   "metadata": {},
   "outputs": [
    {
     "data": {
      "text/plain": [
       "0.8749615029257777"
      ]
     },
     "execution_count": 10,
     "metadata": {},
     "output_type": "execute_result"
    }
   ],
   "source": [
    "# Using SGD with random hyperparameters and hinge loss function\n",
    "# Using a preprocessing pipeline to standardize the data\n",
    "scaler = StandardScaler()\n",
    "est = make_pipeline(StandardScaler(), SGDClassifier())\n",
    "est.fit(X_train, y_train)\n",
    "est.predict(X_train)\n",
    "est.score(X_valid, y_valid)\n"
   ]
  },
  {
   "cell_type": "code",
   "execution_count": 4,
   "id": "f8f49d46-f27f-48ac-a828-cd4fdf50cc8a",
   "metadata": {},
   "outputs": [],
   "source": [
    "from sklearn.model_selection import GridSearchCV\n",
    "import numpy as np"
   ]
  },
  {
   "cell_type": "code",
   "execution_count": 14,
   "id": "8c41ad92-e999-41f8-80c5-020195552830",
   "metadata": {},
   "outputs": [
    {
     "data": {
      "text/plain": [
       "GridSearchCV(cv=5, estimator=SGDClassifier(), n_jobs=8,\n",
       "             param_grid={'alpha': array([1.e-01, 1.e-02, 1.e-03, 1.e-04, 1.e-05, 1.e-06]),\n",
       "                         'loss': ['hinge', 'log'],\n",
       "                         'max_iter': array([10000, 20000, 30000, 40000, 50000, 60000, 70000, 80000, 90000])})"
      ]
     },
     "execution_count": 14,
     "metadata": {},
     "output_type": "execute_result"
    }
   ],
   "source": [
    "# New classifier to try different hyperparams \n",
    "clf = SGDClassifier()\n",
    "\n",
    "\n",
    "# Hypertuning parameters\n",
    "# A good first guess for max_iter is ceil(10**6 / n) n = size of training data, doing 10k step iterations\n",
    "# Trying different loss functions\n",
    "# Trying an exponentially decreasing alpha\n",
    "param_grid = {'max_iter' : np.arange(10000, 100000, 10000), \"loss\" : [\"hinge\", \"log\"], \"alpha\" : 10.0**-np.arange(1,7)}\n",
    "\n",
    "# Cross validating data with 5 folds\n",
    "clf_gs = GridSearchCV(clf, param_grid, cv=5, n_jobs=8)\n",
    "\n",
    "clf_gs.fit(X_train,y_train)"
   ]
  },
  {
   "cell_type": "code",
   "execution_count": 12,
   "id": "9d7814a3-76f3-4b24-816c-136d7293b355",
   "metadata": {},
   "outputs": [
    {
     "data": {
      "text/plain": [
       "0.5658973666392809"
      ]
     },
     "execution_count": 12,
     "metadata": {},
     "output_type": "execute_result"
    }
   ],
   "source": [
    "# Check score of best hyperparams\n",
    "clf_gs.best_score_"
   ]
  },
  {
   "cell_type": "code",
   "execution_count": 8,
   "id": "39b9dbc2-ffc8-45c5-a434-f951c0086590",
   "metadata": {},
   "outputs": [
    {
     "data": {
      "text/plain": [
       "{'loss': 'log', 'max_iter': 60000}"
      ]
     },
     "execution_count": 8,
     "metadata": {},
     "output_type": "execute_result"
    }
   ],
   "source": [
    "# Check best value of hyperparams\n",
    "clf_gs.best_params_"
   ]
  },
  {
   "cell_type": "code",
   "execution_count": null,
   "id": "c0f808b5-7f05-4dae-9d68-fedbff7dc47f",
   "metadata": {},
   "outputs": [],
   "source": [
    "p = list(range(1, 10))\n",
    "lst_test =[]\n",
    "lst_train =[]\n",
    "for i in p:\n",
    "    knn2 = KNeighborsClassifier(n_neighbors = i)\n",
    "    knn2.fit(X_train, y_train)\n",
    "    z = knn2.score(X_valid, y_valid)\n",
    "    t = knn2.score(X_train, y_train)\n",
    "    lst_test.append(z)\n",
    "    lst_train.append(t)"
   ]
  },
  {
   "cell_type": "code",
   "execution_count": null,
   "id": "5361d16e-f6d7-4728-9a00-8ebd1f09d5b2",
   "metadata": {},
   "outputs": [],
   "source": [
    "import matplotlib.pyplot as plt"
   ]
  },
  {
   "cell_type": "code",
   "execution_count": null,
   "id": "b5d4c158-ada8-4585-a90b-ea70221c5d40",
   "metadata": {},
   "outputs": [],
   "source": [
    "plt.plot(p, lst_test, color ='red', label ='Test Accuracy')\n",
    "plt.plot(p, lst_train, color ='b', label ='Train Accuracy')\n",
    "plt.xlabel('K VALUES --->')\n",
    "plt.title('Best value of K')\n",
    "plt.legend()\n",
    "plt.savefig('knn_complexity.png')"
   ]
  },
  {
   "cell_type": "code",
   "execution_count": null,
   "id": "2f5d8332-6867-493b-bea7-8ac90448514b",
   "metadata": {},
   "outputs": [],
   "source": []
  }
 ],
 "metadata": {
  "kernelspec": {
   "display_name": "Python 3",
   "language": "python",
   "name": "python3"
  },
  "language_info": {
   "codemirror_mode": {
    "name": "ipython",
    "version": 3
   },
   "file_extension": ".py",
   "mimetype": "text/x-python",
   "name": "python",
   "nbconvert_exporter": "python",
   "pygments_lexer": "ipython3",
   "version": "3.8.8"
  }
 },
 "nbformat": 4,
 "nbformat_minor": 5
}
